{
  "nbformat": 4,
  "nbformat_minor": 0,
  "metadata": {
    "colab": {
      "name": "Mengumpulkan data sosial media.ipynb",
      "provenance": [],
      "include_colab_link": true
    },
    "kernelspec": {
      "name": "python3",
      "display_name": "Python 3"
    }
  },
  "cells": [
    {
      "cell_type": "markdown",
      "metadata": {
        "id": "view-in-github",
        "colab_type": "text"
      },
      "source": [
        "<a href=\"https://colab.research.google.com/github/sidiqekob90/Reddit-Social-Media/blob/master/Mengumpulkan_data_sosial_media.ipynb\" target=\"_parent\"><img src=\"https://colab.research.google.com/assets/colab-badge.svg\" alt=\"Open In Colab\"/></a>"
      ]
    },
    {
      "cell_type": "markdown",
      "metadata": {
        "id": "Nvt5JxwDNXhI",
        "colab_type": "text"
      },
      "source": [
        "Pada materi kali ini, kita akan mencoba mengumpulkan data dari media sosial. Pada kode dibawah ini kita akan menggunakan API key berbasis web (Application Programmer Interfaces) untuk mengunduh data dari platform sosial media.\n",
        "\n",
        "Sebelum menggunakan / mendapatkan API Key, kita diharuskan untuk mendaftar dengan platform agar API dapat digunakan."
      ]
    },
    {
      "cell_type": "code",
      "metadata": {
        "id": "0VElDfwsNZtc",
        "colab_type": "code",
        "colab": {}
      },
      "source": [
        "%matplotlib inline\n",
        "\n",
        "import json"
      ],
      "execution_count": 0,
      "outputs": []
    },
    {
      "cell_type": "markdown",
      "metadata": {
        "id": "I-9Z9A6ZitX-",
        "colab_type": "text"
      },
      "source": [
        "# **INSTALLING PRAW**\n",
        "PRAW mensupport python versi 3.5+. Untuk menjalankan PRAW kita dapat menginstallnya via ***pip***"
      ]
    },
    {
      "cell_type": "code",
      "metadata": {
        "id": "ZiBwmnPCNqQv",
        "colab_type": "code",
        "outputId": "37c85750-ec17-4117-b3ed-b847262f8d1a",
        "colab": {
          "base_uri": "https://localhost:8080/",
          "height": 319
        }
      },
      "source": [
        "pip install praw"
      ],
      "execution_count": 2,
      "outputs": [
        {
          "output_type": "stream",
          "text": [
            "Collecting praw\n",
            "\u001b[?25l  Downloading https://files.pythonhosted.org/packages/f6/df/b42c0a3b86a43a62a46e5b2f07930230ac7719624800a2052218993fb767/praw-6.4.0-py2.py3-none-any.whl (126kB)\n",
            "\u001b[K     |████████████████████████████████| 133kB 2.7MB/s \n",
            "\u001b[?25hCollecting websocket-client>=0.54.0\n",
            "\u001b[?25l  Downloading https://files.pythonhosted.org/packages/4c/5f/f61b420143ed1c8dc69f9eaec5ff1ac36109d52c80de49d66e0c36c3dfdf/websocket_client-0.57.0-py2.py3-none-any.whl (200kB)\n",
            "\u001b[K     |████████████████████████████████| 204kB 8.8MB/s \n",
            "\u001b[?25hCollecting prawcore<2.0,>=1.0.1\n",
            "  Downloading https://files.pythonhosted.org/packages/76/b5/ce6282dea45cba6f08a30e25d18e0f3d33277e2c9fcbda75644b8dc0089b/prawcore-1.0.1-py2.py3-none-any.whl\n",
            "Collecting update-checker>=0.16\n",
            "  Downloading https://files.pythonhosted.org/packages/17/c9/ab11855af164d03be0ff4fddd4c46a5bd44799a9ecc1770e01a669c21168/update_checker-0.16-py2.py3-none-any.whl\n",
            "Requirement already satisfied: six in /usr/local/lib/python3.6/dist-packages (from websocket-client>=0.54.0->praw) (1.12.0)\n",
            "Requirement already satisfied: requests<3.0,>=2.6.0 in /usr/local/lib/python3.6/dist-packages (from prawcore<2.0,>=1.0.1->praw) (2.21.0)\n",
            "Requirement already satisfied: idna<2.9,>=2.5 in /usr/local/lib/python3.6/dist-packages (from requests<3.0,>=2.6.0->prawcore<2.0,>=1.0.1->praw) (2.8)\n",
            "Requirement already satisfied: chardet<3.1.0,>=3.0.2 in /usr/local/lib/python3.6/dist-packages (from requests<3.0,>=2.6.0->prawcore<2.0,>=1.0.1->praw) (3.0.4)\n",
            "Requirement already satisfied: urllib3<1.25,>=1.21.1 in /usr/local/lib/python3.6/dist-packages (from requests<3.0,>=2.6.0->prawcore<2.0,>=1.0.1->praw) (1.24.3)\n",
            "Requirement already satisfied: certifi>=2017.4.17 in /usr/local/lib/python3.6/dist-packages (from requests<3.0,>=2.6.0->prawcore<2.0,>=1.0.1->praw) (2019.11.28)\n",
            "Installing collected packages: websocket-client, prawcore, update-checker, praw\n",
            "Successfully installed praw-6.4.0 prawcore-1.0.1 update-checker-0.16 websocket-client-0.57.0\n"
          ],
          "name": "stdout"
        }
      ]
    },
    {
      "cell_type": "markdown",
      "metadata": {
        "id": "gzdFLN2rk4D5",
        "colab_type": "text"
      },
      "source": [
        "# **REDDIT API**\n",
        "\n",
        "API Reddit dulu paling mudah digunakan karena tidak memerlukan kredensial untuk mengakses data di halaman subreddit-nya. Sayangnya, proses ini telah diubah, dan pengembang sekarang perlu membuat aplikasi Reddit di halaman aplikasi Reddit yang terletak di sini: (https://www.reddit.com/prefs/apps/)."
      ]
    },
    {
      "cell_type": "code",
      "metadata": {
        "id": "PEUfDJIONgxG",
        "colab_type": "code",
        "colab": {}
      },
      "source": [
        "# For our first piece of code, we need to import the package \n",
        "# that connects to Reddit. Praw is a thin wrapper around reddit's \n",
        "# web APIs and works well\n",
        "\n",
        "import praw"
      ],
      "execution_count": 0,
      "outputs": []
    },
    {
      "cell_type": "markdown",
      "metadata": {
        "id": "piall3SVrxua",
        "colab_type": "text"
      },
      "source": [
        "# **MEMBUAT APLIKASI PADA REDDIT**\n",
        "\n",
        "Untuk membuat aplikasi pada reddit, pertama yang harus kita lakukan adalah memiliki akun reddit terlebih dahulu. kemudian masuk ke halaman: (https://www.reddit.com/prefs/apps/). kemudian pilih \"buat aplikasi\", tulis nama aplikasi, lalu pilih jenis aplikasi nya bisa berbasis web, aplikasi mobile, atau script. Kemudian untuk deskripsi aplikasi adalah opsional dan langkah terakhir adalah tulis alamat url nya. \n",
        "\n",
        "Setelah kita selesai membuat aplikasi, kita akan diarahkan ke halaman baru dengan informasi tentang aplikasi kita. Salin pengidentifikasi unik di bawah \"aplikasi web\" dan di samping \" kunci rahasia\". Ini adalah nilai-nilai client_id dan client_secret Anda, yang Anda butuhkan di bawah ini."
      ]
    },
    {
      "cell_type": "code",
      "metadata": {
        "id": "XIc0sRx_NxNU",
        "colab_type": "code",
        "colab": {}
      },
      "source": [
        "# Now we specify a \"unique\" user agent for our code\n",
        "# This is primarily for identification, I think, and some\n",
        "# user-agents of bad actors might be blocked\n",
        "reddit = praw.Reddit(client_id='dQ0gKuM-sfgkMA',\n",
        "                     client_secret='XBMlopV_50IXU9vmsWGEQ4N6xeA',\n",
        "                     user_agent='user_agent')\n",
        "\n"
      ],
      "execution_count": 0,
      "outputs": []
    },
    {
      "cell_type": "markdown",
      "metadata": {
        "id": "DAKNpfEYuW-9",
        "colab_type": "text"
      },
      "source": [
        "# **MELIHAT POST REDDIT**\n",
        "\n",
        "Sekarang untuk subreddit yang diberikan, kita bisa mendapatkan posting terbaru ke subreddit itu. Judul posting umumnya pendek, sehingga Anda dapat memperlakukannya sebagai sesuatu yang mirip dengan tweet."
      ]
    },
    {
      "cell_type": "code",
      "metadata": {
        "id": "eZY4nc63S85R",
        "colab_type": "code",
        "outputId": "f6241a8c-8b85-41bb-eaaf-6512b0c9c87f",
        "colab": {
          "base_uri": "https://localhost:8080/",
          "height": 185
        }
      },
      "source": [
        "subreddit = \"worldnews\"\n",
        "\n",
        "targetSub = reddit.subreddit(subreddit)\n",
        "\n",
        "submissions = targetSub.new(limit=10)\n",
        "for post in submissions:\n",
        "    print(post.title)"
      ],
      "execution_count": 0,
      "outputs": [
        {
          "output_type": "stream",
          "text": [
            "Authorities: Three people feared dead in Australian bushfires\n",
            "How the U.S. betrayed the Marshall Islands, kindling the next nuclear disaster - Los Angeles Times\n",
            "Telecom giant MTN accused of paying bribes to Taliban, al-Qaeda\n",
            "China has pain pill addicts too, but no one's counting them\n",
            "Migrant in Libya relives brutal detention through sketches\n",
            "The beach town where fires turned day to night\n",
            "Mallacoota fire: images of 'mayhem' and 'armageddon' as bushfires rage | Australia news\n",
            "Brazil fines Facebook $1.6 million over Cambridge Analytica scandal\n",
            "Fire front in Mogo\n",
            "New Year's Eve transport services in France hit by strike action\n"
          ],
          "name": "stdout"
        }
      ]
    },
    {
      "cell_type": "markdown",
      "metadata": {
        "id": "eUQl4v9Iu2RR",
        "colab_type": "text"
      },
      "source": [
        "# **KEKUATAN VOTING REDDIT**\n",
        "\n",
        "Mendapatkan posting baru memberi kita informasi terbaru. Kita juga bisa mendapatkan postingan \"hot\", \"top\" post, dll yang seharusnya memiliki kualitas lebih tinggi. Dalam teori."
      ]
    },
    {
      "cell_type": "code",
      "metadata": {
        "id": "M68XHxzgh-1P",
        "colab_type": "code",
        "outputId": "9e461f08-6ade-44f1-8877-40eb431907ce",
        "colab": {
          "base_uri": "https://localhost:8080/",
          "height": 205
        }
      },
      "source": [
        "subreddit = \"worldnews\"\n",
        "\n",
        "targetSub = reddit.subreddit(subreddit)\n",
        "\n",
        "submissions = targetSub.hot(limit=10)\n",
        "for post in submissions:\n",
        "    print(post.title)"
      ],
      "execution_count": 0,
      "outputs": [
        {
          "output_type": "stream",
          "text": [
            "Erik Prince, a major Republican donor and founder of controversial security firm Blackwater, has been referred to the U.S. Treasury Department for possible sanctions violations tied to his recent trip to Venezuela for a meeting with a top aide of President Nicolas Maduro\n",
            "A group of eight trade organizations that collectively represent 90% of the world’s merchant fleet have proposed a collaborative shipping research and development program to help eliminate CO2 emissions from international shipping.\n",
            "Poll: Majority of Israelis Oppose Immunity From Prosecution for Netanyahu\n",
            "The White House always knew Trump's order to freeze Ukraine aid could blow up, New York Times details\n",
            "Scientists Use Recycled Sewage Water to Grow 500-Acre Forest in the Middle of Egyptian Desert\n",
            "More Canadian firefighters ship out to battle Australia wildfires\n",
            "Chinese Tourists Vandalize Pro-Hong Kong Crosses at Lithuania’s Hill of Crosses\n",
            "Top Syrian Official Says US Has 'Absolutely No Right' to Occupy or Plunder Nation's Oil Fields\n",
            "4000 people trapped on a beach in south-eastern Australia as a bushfire closes in, fire trucks preparing to defend them with a “wall of water”\n",
            "Teenage climate change activist Greta Thunberg said on Monday that talking to Trump at a UN summit on global warming would have been a waste of time since he would not have paid any attention.\n"
          ],
          "name": "stdout"
        }
      ]
    },
    {
      "cell_type": "markdown",
      "metadata": {
        "id": "o9XzxLKZvmge",
        "colab_type": "text"
      },
      "source": [
        "# **Mengikuti Beberapa Subreddits**\n",
        "\n",
        "Reddit memiliki mekanisme yang disebut \"multireddits\" yang pada dasarnya memungkinkan kita untuk melihat beberapa reddits bersama-sama seolah-olah mereka adalah satu. Untuk melakukan ini, kita harus menyatukan subreddits yang menarik menggunakan tanda \"+\"."
      ]
    },
    {
      "cell_type": "code",
      "metadata": {
        "id": "G5f4E0i4iHL0",
        "colab_type": "code",
        "outputId": "8d28669f-a082-4a85-d2be-3e39d668f17b",
        "colab": {
          "base_uri": "https://localhost:8080/",
          "height": 185
        }
      },
      "source": [
        "subreddit = \"worldnews+news\"\n",
        "\n",
        "targetSub = reddit.subreddit(subreddit)\n",
        "submissions = targetSub.new(limit=10)\n",
        "for post in submissions:\n",
        "    print(post.title, post.author)"
      ],
      "execution_count": 0,
      "outputs": [
        {
          "output_type": "stream",
          "text": [
            "Military to support Victoria fire response as four remain missing Slats7\n",
            "Tanjung Malim Bersatu Armada chief dies in highway accident JoyaAbedin\n",
            "Military to support Victoria fire response as four remain missing Slats7\n",
            "Thousands trapped on Australia beach encircled by fire JoyaAbedin\n",
            "Authorities: Three people feared dead in Australian bushfires JoyaAbedin\n",
            "How the U.S. betrayed the Marshall Islands, kindling the next nuclear disaster - Los Angeles Times lukelukeluke4\n",
            "Smokey Sydney to kick off New Year parties with fireworks JoyaAbedin\n",
            "Judge Orders Alex Jones and Infowars to Pay $100,000 in Sandy Hook Legal Fees Minifig81\n",
            "Telecom giant MTN accused of paying bribes to Taliban, al-Qaeda pantangeli\n",
            "Sheriff: Almost all upgrades from Vegas shooting implemented pantangeli\n"
          ],
          "name": "stdout"
        }
      ]
    },
    {
      "cell_type": "markdown",
      "metadata": {
        "id": "SMddOalYv-iy",
        "colab_type": "text"
      },
      "source": [
        "# **Mengakses Komentar Reddit**\n",
        "\n",
        "Meskipun kita seharusnya tidak pernah membaca komentar, untuk aliran langsung tertentu atau pos baru dan naik, komentar tersebut dapat memberikan wawasan yang berguna tentang peristiwa di lapangan atau sentimen orang. Postingan baru mungkin belum memiliki komentar.\n",
        "\n",
        "Komentar terlampir pada judul posting, jadi untuk pengiriman yang diberikan, kita dapat menarik komentarnya secara langsung.\n",
        "\n",
        "Catatan Reddit mengembalikan halaman komentar untuk mencegah server overload, sehingga kita tidak akan mendapatkan semua komentar sekaligus dan harus menulis kode untuk mendapatkan lebih banyak komentar daripada yang teratas dikembalikan pada awalnya. Penomoran halaman ini dilakukan menggunakan objek lebih banyak XYZ (misalnya Lebih banyak komentar atau lebih banyak posting)."
      ]
    },
    {
      "cell_type": "code",
      "metadata": {
        "id": "A3mir-YwiPe_",
        "colab_type": "code",
        "outputId": "54c8b4af-35a4-49c0-d65e-b2af4e1285b9",
        "colab": {
          "base_uri": "https://localhost:8080/",
          "height": 507
        }
      },
      "source": [
        "subreddit = \"worldnews\"\n",
        "\n",
        "breadthCommentCount = 5\n",
        "\n",
        "targetSub = reddit.subreddit(subreddit)\n",
        "\n",
        "submissions = targetSub.hot(limit=1)\n",
        "\n",
        "for post in submissions:\n",
        "    print (post.title)\n",
        "    \n",
        "    post.comment_limit = breadthCommentCount\n",
        "    \n",
        "    # Get the top few comments\n",
        "    for comment in post.comments.list():\n",
        "        if isinstance(comment, praw.models.MoreComments):\n",
        "            continue\n",
        "        \n",
        "        print (\"---\", comment.name, \"---\")\n",
        "        print (\"\\t\", comment.body)\n",
        "        \n",
        "        for reply in comment.replies.list():\n",
        "            if isinstance(reply, praw.models.MoreComments):\n",
        "                continue\n",
        "            \n",
        "            print (\"\\t\", \"---\", reply.name, \"---\")\n",
        "            print (\"\\t\\t\", reply.body)\n"
      ],
      "execution_count": 0,
      "outputs": [
        {
          "output_type": "stream",
          "text": [
            "Erik Prince, a major Republican donor and founder of controversial security firm Blackwater, has been referred to the U.S. Treasury Department for possible sanctions violations tied to his recent trip to Venezuela for a meeting with a top aide of President Nicolas Maduro\n",
            "--- t1_fcleank ---\n",
            "\t His sister is Betsy Devios\n",
            "--- t1_fclvnju ---\n",
            "\t \n",
            "Prince sold Blackwater to Leon Black's firm for $1 Billion in 2016. \n",
            "\n",
            " >\"Black’s links to Epstein have become a source of fascination and concern to some Apollo employees and investors\"\n",
            "\n",
            "https://www.crainsnewyork.com/finance/epstein-had-door-apollo-his-deep-ties-black\n",
            "\n",
            " https://www.bloomberg.com/news/articles/2019-07-31/jeffrey-epstein-had-a-door-into-apollo-his-deep-ties-with-black\n",
            "\n",
            "https://www.reuters.com/article/us-constellis-m-a/apollo-pauses-plans-to-sell-security-firm-constellis-sources-idUSKBN1JA2W6\n",
            "--- t1_fcliy5j ---\n",
            "\t He’s notorious for providing weapons of war regardless of allegiance or motives. He was tied to arming crop dusters that he intended to sell the south Sudanese to indiscriminately kill with. \n",
            "\n",
            "\n",
            "https://www.thedrive.com/the-war-zone/11689/blackwater-founder-erik-princes-armed-crop-duster-is-at-the-paris-air-show\n",
            "\t --- t1_fcm19z3 ---\n",
            "\t\t Behind the bastards https://open.spotify.com/episode/1wW9J3uwdxeJTZxDUIoWJM?si=CDl9VOSIQ66U8vmDJb712Q\n",
            "--- t1_fclpb3g ---\n",
            "\t There are two kinds of people who think Erik Prince is good:\n",
            "\n",
            "1. Illiterate people\n",
            "2. Satan\n",
            "--- t1_fcm19z3 ---\n",
            "\t Behind the bastards https://open.spotify.com/episode/1wW9J3uwdxeJTZxDUIoWJM?si=CDl9VOSIQ66U8vmDJb712Q\n"
          ],
          "name": "stdout"
        }
      ]
    },
    {
      "cell_type": "markdown",
      "metadata": {
        "id": "tiQYTkNy0S0A",
        "colab_type": "text"
      },
      "source": [
        "Pada materi kali ini, kita akan mencoba mengumpulkan data dari media sosial. Pada kode dibawah ini kita akan menggunakan API key berbasis web (Application Programmer Interfaces) untuk mengunduh data dari platform sosial media.\n",
        "\n",
        "Sebelum menggunakan / mendapatkan API Key, kita diharuskan untuk mendaftar dengan platform agar API dapat digunakan. \n"
      ]
    },
    {
      "cell_type": "code",
      "metadata": {
        "id": "G8C4zM73z1aW",
        "colab_type": "code",
        "colab": {}
      },
      "source": [
        "%matplotlib inline\n",
        "\n",
        "import json"
      ],
      "execution_count": 0,
      "outputs": []
    },
    {
      "cell_type": "markdown",
      "metadata": {
        "id": "2HZdqnEK9JSp",
        "colab_type": "text"
      },
      "source": [
        "# **FACEBOOK API**\n",
        "\n",
        "Mendapatkan akses ke API Facebook sedikit lebih mudah daripada Twitter karena Anda dapat pergi ke explorer Graph API, mengambil token akses, dan segera mulai bermain-main dengan API. Namun token akses tidak baik selamanya, jadi jika Anda berencana melakukan analisis jangka panjang atau pengambilan data, Anda harus menempuh rute OAuth penuh dan menghasilkan token menggunakan jalur yang disetujui."
      ]
    },
    {
      "cell_type": "code",
      "metadata": {
        "id": "V-pP6uYI1v0y",
        "colab_type": "code",
        "outputId": "43ab64b0-2b50-4ecb-db0c-24e8299e8b42",
        "colab": {
          "base_uri": "https://localhost:8080/",
          "height": 168
        }
      },
      "source": [
        "pip install facebook-sdk"
      ],
      "execution_count": 0,
      "outputs": [
        {
          "output_type": "stream",
          "text": [
            "Collecting facebook-sdk\n",
            "  Using cached https://files.pythonhosted.org/packages/79/d7/4cb0f5930f79205cc45db22e17fa716396d813c3d6b8d5de77783a5fa59a/facebook_sdk-3.1.0-py2.py3-none-any.whl\n",
            "Requirement already satisfied: requests in /usr/local/lib/python3.6/dist-packages (from facebook-sdk) (2.21.0)\n",
            "Requirement already satisfied: idna<2.9,>=2.5 in /usr/local/lib/python3.6/dist-packages (from requests->facebook-sdk) (2.8)\n",
            "Requirement already satisfied: chardet<3.1.0,>=3.0.2 in /usr/local/lib/python3.6/dist-packages (from requests->facebook-sdk) (3.0.4)\n",
            "Requirement already satisfied: certifi>=2017.4.17 in /usr/local/lib/python3.6/dist-packages (from requests->facebook-sdk) (2019.11.28)\n",
            "Requirement already satisfied: urllib3<1.25,>=1.21.1 in /usr/local/lib/python3.6/dist-packages (from requests->facebook-sdk) (1.24.3)\n",
            "Installing collected packages: facebook-sdk\n",
            "Successfully installed facebook-sdk-3.1.0\n"
          ],
          "name": "stdout"
        }
      ]
    },
    {
      "cell_type": "code",
      "metadata": {
        "id": "SVmRlwoO1p_i",
        "colab_type": "code",
        "colab": {}
      },
      "source": [
        "# As before, the first thing we do is import the Facebook\n",
        "# wrapper\n",
        "\n",
        "import facebook\n",
        "import hashlib\n",
        "import hmac"
      ],
      "execution_count": 0,
      "outputs": []
    },
    {
      "cell_type": "code",
      "metadata": {
        "id": "UaFjeVTVXf8z",
        "colab_type": "code",
        "outputId": "53b632a5-0445-481a-837c-f24b9df536ef",
        "colab": {
          "base_uri": "https://localhost:8080/",
          "height": 84
        }
      },
      "source": [
        "fbAccessToken = 'EAAGboRLflKYBABagpnZBAaTLqfIZC0W5YJnCDfrmXHqJRePJVMceosZCrCtOPJZC4MkwYzIHReDVwZAqH1YGjHJbyenxtkbbve5N1WqcqZBY6hPzKClhsMCxWXeIp8MZBDOXbWOejH5VhEGeUWtHLSAbS8Ozf9jTeSfCZCYFQ3ksQuM7fPMAYO8X6dM4mB1RQVksUiJXRFYFp8vxiHICg34QCcH8UGah0ZCrCkjQ686XHdwZDZD'\n",
        "facebook_app_id     = '452591085393062'\n",
        "facebook_app_secret = '452591085393062|v9clXkh1n6p0Qe7RNo4RBxZu6No'\n",
        "facebook_app_token  = '{}|{}'.format(facebook_app_id,facebook_app_secret)\n",
        "\n",
        "app_secret_proof    = hmac.new(facebook_app_secret.encode('utf-8'), msg=facebook_app_token.encode('utf-8'), digestmod=hashlib.sha256).hexdigest()\n"
      ],
      "execution_count": 0,
      "outputs": [
        {
          "output_type": "execute_result",
          "data": {
            "text/plain": [
              "{'error': {'code': 190,\n",
              "  'fbtrace_id': 'ArncOWvpcxFRc4gwr3_yMkk',\n",
              "  'message': 'Invalid access token signature.',\n",
              "  'type': 'OAuthException'}}"
            ]
          },
          "metadata": {
            "tags": []
          },
          "execution_count": 23
        }
      ]
    },
    {
      "cell_type": "code",
      "metadata": {
        "id": "4nN3d_LsXrUN",
        "colab_type": "code",
        "colab": {}
      },
      "source": [
        "# Connect to the graph API, note we use version 2.7\n",
        "graph = facebook.GraphAPI(access_token=fbAccessToken, version='2.8')"
      ],
      "execution_count": 0,
      "outputs": []
    },
    {
      "cell_type": "code",
      "metadata": {
        "id": "IowAY-VHX192",
        "colab_type": "code",
        "outputId": "7ea2a27d-a330-4ce6-eb60-1d5a0799baca",
        "colab": {
          "base_uri": "https://localhost:8080/",
          "height": 370
        }
      },
      "source": [
        "# What page to look at?\n",
        "targetPage = \"nytimes\"\n",
        "\n",
        "# Other options for pages:\n",
        "# nytimes, bbc, bbcamerica, bbcafrica, redcross, disaster\n",
        "\n",
        "maxPosts = 10 # How many posts should we pull?\n",
        "maxComments = 5 # How many comments for each post?\n",
        "\n",
        "post = graph.get_object(id=targetPage + '/feed',)\n",
        "\n",
        "\n",
        "# For each post, print its message content and its ID\n",
        "for v in post[\"data\"][:maxPosts]:\n",
        "    print (\"---\")\n",
        "    print (v[\"message\"], v[\"id\"])\n",
        "        \n",
        "    # For each comment on this post, print its number, \n",
        "    # the name of the author, and the message content\n",
        "    print (\"Comments:\")\n",
        "    comments = graph.get_object(id='%s/comments' % v[\"id\"])\n",
        "    for (i, comment) in enumerate(comments[\"data\"][:maxComments]):\n",
        "        print (\"\\t\", i, comment[\"from\"][\"name\"], comment[\"message\"])\n"
      ],
      "execution_count": 0,
      "outputs": [
        {
          "output_type": "error",
          "ename": "GraphAPIError",
          "evalue": "ignored",
          "traceback": [
            "\u001b[0;31m---------------------------------------------------------------------------\u001b[0m",
            "\u001b[0;31mGraphAPIError\u001b[0m                             Traceback (most recent call last)",
            "\u001b[0;32m<ipython-input-19-d7d7ce038b17>\u001b[0m in \u001b[0;36m<module>\u001b[0;34m()\u001b[0m\n\u001b[1;32m      7\u001b[0m \u001b[0mmaxComments\u001b[0m \u001b[0;34m=\u001b[0m \u001b[0;36m5\u001b[0m \u001b[0;31m# How many comments for each post?\u001b[0m\u001b[0;34m\u001b[0m\u001b[0;34m\u001b[0m\u001b[0m\n\u001b[1;32m      8\u001b[0m \u001b[0;34m\u001b[0m\u001b[0m\n\u001b[0;32m----> 9\u001b[0;31m \u001b[0mpost\u001b[0m \u001b[0;34m=\u001b[0m \u001b[0mgraph\u001b[0m\u001b[0;34m.\u001b[0m\u001b[0mget_object\u001b[0m\u001b[0;34m(\u001b[0m\u001b[0mid\u001b[0m\u001b[0;34m=\u001b[0m\u001b[0mtargetPage\u001b[0m \u001b[0;34m+\u001b[0m \u001b[0;34m'/feed'\u001b[0m\u001b[0;34m,\u001b[0m\u001b[0;34m)\u001b[0m\u001b[0;34m\u001b[0m\u001b[0;34m\u001b[0m\u001b[0m\n\u001b[0m\u001b[1;32m     10\u001b[0m \u001b[0;34m\u001b[0m\u001b[0m\n\u001b[1;32m     11\u001b[0m \u001b[0;34m\u001b[0m\u001b[0m\n",
            "\u001b[0;32m/usr/local/lib/python3.6/dist-packages/facebook/__init__.py\u001b[0m in \u001b[0;36mget_object\u001b[0;34m(self, id, **args)\u001b[0m\n\u001b[1;32m    124\u001b[0m     \u001b[0;32mdef\u001b[0m \u001b[0mget_object\u001b[0m\u001b[0;34m(\u001b[0m\u001b[0mself\u001b[0m\u001b[0;34m,\u001b[0m \u001b[0mid\u001b[0m\u001b[0;34m,\u001b[0m \u001b[0;34m**\u001b[0m\u001b[0margs\u001b[0m\u001b[0;34m)\u001b[0m\u001b[0;34m:\u001b[0m\u001b[0;34m\u001b[0m\u001b[0;34m\u001b[0m\u001b[0m\n\u001b[1;32m    125\u001b[0m         \u001b[0;34m\"\"\"Fetches the given object from the graph.\"\"\"\u001b[0m\u001b[0;34m\u001b[0m\u001b[0;34m\u001b[0m\u001b[0m\n\u001b[0;32m--> 126\u001b[0;31m         \u001b[0;32mreturn\u001b[0m \u001b[0mself\u001b[0m\u001b[0;34m.\u001b[0m\u001b[0mrequest\u001b[0m\u001b[0;34m(\u001b[0m\u001b[0;34m\"{0}/{1}\"\u001b[0m\u001b[0;34m.\u001b[0m\u001b[0mformat\u001b[0m\u001b[0;34m(\u001b[0m\u001b[0mself\u001b[0m\u001b[0;34m.\u001b[0m\u001b[0mversion\u001b[0m\u001b[0;34m,\u001b[0m \u001b[0mid\u001b[0m\u001b[0;34m)\u001b[0m\u001b[0;34m,\u001b[0m \u001b[0margs\u001b[0m\u001b[0;34m)\u001b[0m\u001b[0;34m\u001b[0m\u001b[0;34m\u001b[0m\u001b[0m\n\u001b[0m\u001b[1;32m    127\u001b[0m \u001b[0;34m\u001b[0m\u001b[0m\n\u001b[1;32m    128\u001b[0m     \u001b[0;32mdef\u001b[0m \u001b[0mget_objects\u001b[0m\u001b[0;34m(\u001b[0m\u001b[0mself\u001b[0m\u001b[0;34m,\u001b[0m \u001b[0mids\u001b[0m\u001b[0;34m,\u001b[0m \u001b[0;34m**\u001b[0m\u001b[0margs\u001b[0m\u001b[0;34m)\u001b[0m\u001b[0;34m:\u001b[0m\u001b[0;34m\u001b[0m\u001b[0;34m\u001b[0m\u001b[0m\n",
            "\u001b[0;32m/usr/local/lib/python3.6/dist-packages/facebook/__init__.py\u001b[0m in \u001b[0;36mrequest\u001b[0;34m(self, path, args, post_args, files, method)\u001b[0m\n\u001b[1;32m    311\u001b[0m \u001b[0;34m\u001b[0m\u001b[0m\n\u001b[1;32m    312\u001b[0m         \u001b[0;32mif\u001b[0m \u001b[0mresult\u001b[0m \u001b[0;32mand\u001b[0m \u001b[0misinstance\u001b[0m\u001b[0;34m(\u001b[0m\u001b[0mresult\u001b[0m\u001b[0;34m,\u001b[0m \u001b[0mdict\u001b[0m\u001b[0;34m)\u001b[0m \u001b[0;32mand\u001b[0m \u001b[0mresult\u001b[0m\u001b[0;34m.\u001b[0m\u001b[0mget\u001b[0m\u001b[0;34m(\u001b[0m\u001b[0;34m\"error\"\u001b[0m\u001b[0;34m)\u001b[0m\u001b[0;34m:\u001b[0m\u001b[0;34m\u001b[0m\u001b[0;34m\u001b[0m\u001b[0m\n\u001b[0;32m--> 313\u001b[0;31m             \u001b[0;32mraise\u001b[0m \u001b[0mGraphAPIError\u001b[0m\u001b[0;34m(\u001b[0m\u001b[0mresult\u001b[0m\u001b[0;34m)\u001b[0m\u001b[0;34m\u001b[0m\u001b[0;34m\u001b[0m\u001b[0m\n\u001b[0m\u001b[1;32m    314\u001b[0m         \u001b[0;32mreturn\u001b[0m \u001b[0mresult\u001b[0m\u001b[0;34m\u001b[0m\u001b[0;34m\u001b[0m\u001b[0m\n\u001b[1;32m    315\u001b[0m \u001b[0;34m\u001b[0m\u001b[0m\n",
            "\u001b[0;31mGraphAPIError\u001b[0m: (#100) Pages Public Content Access requires either app secret proof or an app token"
          ]
        }
      ]
    },
    {
      "cell_type": "markdown",
      "metadata": {
        "id": "SU_tdvNwKuXY",
        "colab_type": "text"
      },
      "source": [
        "# **TWITTER API**\n",
        "\n",
        "API Twitter mungkin yang paling berguna dan fleksibel tetapi membutuhkan beberapa langkah untuk mengonfigurasi. Untuk mendapatkan akses ke API, Anda harus terlebih dahulu memiliki akun Twitter dan memiliki nomor ponsel (atau nomor apa pun yang dapat menerima pesan teks) yang dilampirkan ke akun itu. Kemudian, kita akan menggunakan portal pengembang Twitter untuk membuat \"aplikasi\" yang kemudian akan memberi kita token dan kunci kunci (pada dasarnya ID dan kata sandi) yang perlu kita sambungkan ke API.\n",
        "\n",
        "Jadi, secara ringkas, langkah-langkah umum adalah:\n",
        "\n",
        "1.   Punya akun Twitter,\n",
        "2.   Konfigurasikan akun Twitter Anda dengan nomor ponsel Anda,\n",
        "3.   Buat aplikasi di situs pengembang Twitter, dan\n",
        "4.   Hasilkan konsumen dan kunci akses dan rahasia.\n",
        "\n",
        "Kami kemudian akan pasang empat string ini ke dalam kode di bawah ini."
      ]
    },
    {
      "cell_type": "code",
      "metadata": {
        "id": "hMBqQWnWLain",
        "colab_type": "code",
        "colab": {}
      },
      "source": [
        "# For our first piece of code, we need to import the package \n",
        "# that connects to Twitter. Tweepy is a popular and fully featured\n",
        "# implementation.\n",
        "\n",
        "import tweepy"
      ],
      "execution_count": 0,
      "outputs": []
    },
    {
      "cell_type": "markdown",
      "metadata": {
        "id": "g0sfr9FpNSQz",
        "colab_type": "text"
      },
      "source": [
        "# **MEMBUAT KREDENSIAL TWITTER**\n",
        "\n",
        "Membuat Kredensial Twitter\n",
        "Untuk instruksi lebih mendalam untuk membuat akun Twitter dan atau mengatur akun Twitter untuk menggunakan kode berikut, saya akan memberikan langkah-langkah untuk mengkonfigurasi dan menghasilkan informasi ini.\n",
        "\n",
        "Pertama, kita menganggap Anda sudah memiliki akun Twitter. Jika ini tidak benar,buatlah akun twitter terlebih dahulu\n",
        "\n",
        "Kedua, Buat aplikasi di situs Dev Twitter Pergi ke (apps.twitter.com), dan klik tombol \"Buat Aplikasi Baru\". Isi kolom \"Nama,\" \"Deskripsi,\" dan \"Situs web\", biarkan callback kosong (kami tidak akan menggunakannya). Perhatikan bahwa situs web harus URL yang sepenuhnya memenuhi syarat, sehingga harus seperti: http://test.url.com. Kemudian scroll ke bawah dan baca perjanjian pengembang, periksa yang setuju, dan terakhir klik \"Buat aplikasi Twitter Anda.\"\n",
        "\n",
        "Langkah ketiga, Hasilkan kunci dan token dengan aplikasi ini Setelah aplikasi kita dibuat, kita akan melihat halaman ringkasan seperti di bawah ini. Klik \"Kunci dan Token Akses\" untuk melihat dan mengelola kunci. Gulir ke bawah dan klik \"Buat token akses saya.\" Setelah beberapa saat, halaman akan di-refresh, dan halaman itu akan memperlihatkan kepada kita empat string panjang karakter dan angka, kunci konsumsi, rahasia konsumen, token akses, dan rahasia akses (perhatikan ini peka huruf besar kecil!). Salin dan lewati keempat string ini ke dalam tanda kutip di sel kode di bawah ini."
      ]
    },
    {
      "cell_type": "code",
      "metadata": {
        "id": "kFWPn6q3O05p",
        "colab_type": "code",
        "colab": {}
      },
      "source": [
        "# Use the strings from your Twitter app webpage to populate these four \n",
        "# variables. Be sure and put the strings BETWEEN the quotation marks\n",
        "# to make it a valid Python string.\n",
        "\n",
        "consumer_key = \"OsnVrzmGYRQmlKW2Hzt8koEGL\"\n",
        "consumer_secret = \"xxJp1N1Ayy21pvY8R6sjQ02Q7KV2DCgJT4r7a2P3YT4Psc7qRU\"\n",
        "access_token = \"559525564-hvkz9T3VPJBU8VPnItF1WctmRZcI0JxYsrIW62tH\"\n",
        "access_secret = \"QHjo6SjNzeMgWb4YaUCJZo1KuAY1jnepfnZN2sFcsbzoE\""
      ],
      "execution_count": 0,
      "outputs": []
    },
    {
      "cell_type": "markdown",
      "metadata": {
        "id": "5xJpOKJdPIgh",
        "colab_type": "text"
      },
      "source": [
        "# **MENGHUBUNGKAN KE TWITTER**\n",
        "\n",
        "Setelah kita mempunyai dan memasukkan perincian otentikasi, kita dapat terhubung ke Twitter menggunakan Tweepy OAuth handler, seperti di bawah ini."
      ]
    },
    {
      "cell_type": "code",
      "metadata": {
        "id": "Y4UHw-yvPXpJ",
        "colab_type": "code",
        "outputId": "3e0c8858-6712-4e35-b5c3-c7df0cbc8b5f",
        "colab": {
          "base_uri": "https://localhost:8080/",
          "height": 34
        }
      },
      "source": [
        "# Now we use the configured authentication information to connect\n",
        "# to Twitter's API\n",
        "auth = tweepy.OAuthHandler(consumer_key, consumer_secret)\n",
        "auth.set_access_token(access_token, access_secret)\n",
        "\n",
        "api = tweepy.API(auth)\n",
        "\n",
        "print(\"Connected to Twitter!\")"
      ],
      "execution_count": 0,
      "outputs": [
        {
          "output_type": "stream",
          "text": [
            "Connected to Twitter!\n"
          ],
          "name": "stdout"
        }
      ]
    },
    {
      "cell_type": "markdown",
      "metadata": {
        "id": "T2LXn5Z-Pdnr",
        "colab_type": "text"
      },
      "source": [
        "# **MENGUJI KONEKSI KITA**\n",
        "\n",
        "Sekarang kita terhubung ke Twitter, mari kita lakukan pemeriksaan singkat bahwa kita dapat membaca tweet dengan menarik beberapa tweet pertama dari timeline kita sendiri (atau akun yang terkait dengan aplikasi Twitter Anda) dan mencetaknya."
      ]
    },
    {
      "cell_type": "code",
      "metadata": {
        "id": "4-wQfuybPvvi",
        "colab_type": "code",
        "outputId": "5c5ce8d3-a3ac-4d43-bd4a-20bb6444a1e7",
        "colab": {
          "base_uri": "https://localhost:8080/",
          "height": 101
        }
      },
      "source": [
        "# Get tweets from our timeline\n",
        "public_tweets = api.home_timeline()\n",
        "\n",
        "# print the first five authors and tweet texts\n",
        "for tweet in public_tweets[:5]:\n",
        "    print (tweet.author.screen_name, tweet.author.name, \"said:\", tweet.text)"
      ],
      "execution_count": 0,
      "outputs": [
        {
          "output_type": "stream",
          "text": [
            "anisharini Mpus🐱 said: RT @davinlin_: Bukan pak Bas namanya kalau gak bisa ngehibur penonton. Emang deh cuman Menteri @KemenPU paling berani ngegombalin host cewe…\n",
            "anisharini Mpus🐱 said: RT @9GAG: Slicing soap is mesmerising and surprising https://t.co/IkOEvG7eOG\n",
            "dhamarhapsara Dhamar Hapsara said: RT @memefess: Yeet! https://t.co/foeNvVV1nn\n",
            "ArnoldPoernomo Arnold Poernomo said: Ahhhh masaaaa? Yakin? https://t.co/eOEs2MPfkU\n",
            "BeasiswaIndo Beasiswa Indonesia said: https://t.co/kDCqjcMxwi Beasiswa S1 S2 Bisnis di University of Sydney AUSTRALIA\n"
          ],
          "name": "stdout"
        }
      ]
    },
    {
      "cell_type": "markdown",
      "metadata": {
        "id": "t7HTdVP-P2cE",
        "colab_type": "text"
      },
      "source": [
        "# **MENCARI KATA KUNCI PADA TWITTER**\n",
        "\n",
        "Sekarang kita terhubung, kita dapat mencari Twitter untuk kata kunci tertentu dengan relatif mudah seperti kita menggunakan kotak pencarian Twitter. Meskipun pencarian ini hanya berlangsung 7 hari dan / atau 1.500 tweets (mana yang lebih sedikit), ini bisa menjadi sangat kuat jika acara yang ingin Anda lacak baru saja dimulai.\n",
        "\n",
        "Perhatikan bahwa kita mungkin harus berurusan dengan paging jika kita mendapatkan banyak data. Twitter hanya akan mengembalikan Anda satu halaman hingga 100 tweet sekaligus."
      ]
    },
    {
      "cell_type": "code",
      "metadata": {
        "id": "r6puqZJ4QOrB",
        "colab_type": "code",
        "outputId": "e314e75c-b20d-4f9d-a44d-6a9350ff1b2d",
        "colab": {
          "base_uri": "https://localhost:8080/",
          "height": 356
        }
      },
      "source": [
        "# Our search string\n",
        "queryString = \"gempa bumi\"\n",
        "\n",
        "# Perform the search\n",
        "matchingTweets = api.search(queryString)\n",
        "\n",
        "print (\"Searched for:\", queryString)\n",
        "print (\"Number found:\", len(matchingTweets))\n",
        "\n",
        "# For each tweet that matches our query, print the author and text\n",
        "print (\"\\nTweets:\")\n",
        "for tweet in matchingTweets:\n",
        "    print (tweet.author.screen_name, tweet.author.name, tweet.text)"
      ],
      "execution_count": 0,
      "outputs": [
        {
          "output_type": "stream",
          "text": [
            "Searched for: gempa bumi\n",
            "Number found: 15\n",
            "\n",
            "Tweets:\n",
            "ftmhaziz lemon RT @PopPelangi: Walaupun gempa bumi tersebut direkodkan ketiga paling kuat dalam sejarah merekod kejadian gempa (Alaska 1964, diikuti Chile…\n",
            "HazeLatif blank! RT @PopPelangi: Saya dengar khabar tak baik dari Sabah. Ada gempa bumi di Ranau, dengan kekuatan 2.8 skala Richter. Semoga yang lain selama…\n",
            "_luvanne8 amare RT @Innayaputri72: Peringatan dari Allah dengan bnyknya gempa bumi&amp; fenomena alam lainya adlh mutlak kesalahn manusia,yang telah membuat ke…\n",
            "SetanKepo_ Setan Kepo No.2 kamu itu kayak lempengan bumi ya, geser dikit aja bisa https://t.co/N5S8nqDSQc hati aku.\n",
            "JurnalNews_ID JurnalNews.id Gempa Bumi Magnitudo 5,1 Guncang Kabupaten Tolitoli https://t.co/wqQlnYC1AW https://t.co/zqCzZVblHZ\n",
            "Innayaputri72 Innaya putri @MotherOfYatim/OrphanChildren Peringatan dari Allah dengan bnyknya gempa bumi&amp; fenomena alam lainya adlh mutlak kesalahn manusia,yang telah membu… https://t.co/7nqVjmnrFV\n",
            "annasyahidatul Anna RT @PopPelangi: Saya dengar khabar tak baik dari Sabah. Ada gempa bumi di Ranau, dengan kekuatan 2.8 skala Richter. Semoga yang lain selama…\n",
            "ItuSemanisAku Caramel @NyiAgengSerang2 @_geng @shinichi8889 @aagym Banjir dan gempa bumi lokal\n",
            "syvzwvnv dewi RT @PopPelangi: Saya dengar khabar tak baik dari Sabah. Ada gempa bumi di Ranau, dengan kekuatan 2.8 skala Richter. Semoga yang lain selama…\n",
            "batamtoday BATAMTODAY.COM Potensi Bencana Gempa Bumi, Tsunami dan Erupsi Gunung Api Perlu Diwaspadai pada 2020 https://t.co/KaaSUuUV9w\n",
            "fe307_ Fildza Eqhnoor RT @PopPelangi: Saya dengar khabar tak baik dari Sabah. Ada gempa bumi di Ranau, dengan kekuatan 2.8 skala Richter. Semoga yang lain selama…\n",
            "SuElaosman cikcu RT @PopPelangi: Saya dengar khabar tak baik dari Sabah. Ada gempa bumi di Ranau, dengan kekuatan 2.8 skala Richter. Semoga yang lain selama…\n",
            "Divif2kostrad Divif 2 Kostrad Pangdivif 2 Kostrad Pimpin Upacara Purna Tugas Satgas Percepatan Pembangunan Hunian Tetap Pasca Bencana Gempa Bumi… https://t.co/gSKb7obIjs\n",
            "Ndrews1162011 Ndrews11611 @kinderjoyakult Klo kamu bakalan rame kalo kena gempa bumi atau gak unit kebakaran 😅\n",
            "ayunorma08 Ayu Norma (Yayak) Umurku wes 24 tahun, tapi aku masih trauma nek kelingan jaman gempa bumi Jogja 2006. Pas kui umurku masih 10 tahun.… https://t.co/1yUor7QoSh\n"
          ],
          "name": "stdout"
        }
      ]
    },
    {
      "cell_type": "markdown",
      "metadata": {
        "id": "cFNzWH5QQYeC",
        "colab_type": "text"
      },
      "source": [
        "# **KUERI YANG LEBIH KOMPLEKS**\n",
        "\n",
        "API Pencarian Twitter memperlihatkan banyak kemampuan, seperti pemfilteran untuk media, tautan, sebutan, geolokasi, tanggal, dll. Kami dapat mengakses kemampuan ini secara langsung dengan fungsi pencarian.\n",
        "\n",
        "Untuk daftar operator yang didukung Twitter, buka di sini: https://dev.twitter.com/rest/public/search"
      ]
    },
    {
      "cell_type": "code",
      "metadata": {
        "id": "E5hcuP7lQlLw",
        "colab_type": "code",
        "outputId": "503d03f5-c0d0-44aa-803c-4445011e37f5",
        "colab": {
          "base_uri": "https://localhost:8080/",
          "height": 386
        }
      },
      "source": [
        "# Lets find only media or links about earthquakes\n",
        "queryString = \"gempa bumi (filter:media OR filter:links)\"\n",
        "\n",
        "# Perform the search\n",
        "matchingTweets = api.search(queryString)\n",
        "\n",
        "print (\"Searched for:\", queryString)\n",
        "print (\"Number found:\", len(matchingTweets))\n",
        "\n",
        "# For each tweet that matches our query, print the author and text\n",
        "print (\"\\nTweets:\")\n",
        "for tweet in matchingTweets:\n",
        "    print (tweet.author.screen_name, tweet.text)"
      ],
      "execution_count": 0,
      "outputs": [
        {
          "output_type": "stream",
          "text": [
            "Searched for: gempa bumi (filter:media OR filter:links)\n",
            "Number found: 15\n",
            "\n",
            "Tweets:\n",
            "ftmhaziz RT @PopPelangi: Walaupun gempa bumi tersebut direkodkan ketiga paling kuat dalam sejarah merekod kejadian gempa (Alaska 1964, diikuti Chile…\n",
            "HazeLatif RT @PopPelangi: Saya dengar khabar tak baik dari Sabah. Ada gempa bumi di Ranau, dengan kekuatan 2.8 skala Richter. Semoga yang lain selama…\n",
            "SetanKepo_ kamu itu kayak lempengan bumi ya, geser dikit aja bisa https://t.co/N5S8nqDSQc hati aku.\n",
            "JurnalNews_ID Gempa Bumi Magnitudo 5,1 Guncang Kabupaten Tolitoli https://t.co/wqQlnYC1AW https://t.co/zqCzZVblHZ\n",
            "annasyahidatul RT @PopPelangi: Saya dengar khabar tak baik dari Sabah. Ada gempa bumi di Ranau, dengan kekuatan 2.8 skala Richter. Semoga yang lain selama…\n",
            "syvzwvnv RT @PopPelangi: Saya dengar khabar tak baik dari Sabah. Ada gempa bumi di Ranau, dengan kekuatan 2.8 skala Richter. Semoga yang lain selama…\n",
            "batamtoday Potensi Bencana Gempa Bumi, Tsunami dan Erupsi Gunung Api Perlu Diwaspadai pada 2020 https://t.co/KaaSUuUV9w\n",
            "fe307_ RT @PopPelangi: Saya dengar khabar tak baik dari Sabah. Ada gempa bumi di Ranau, dengan kekuatan 2.8 skala Richter. Semoga yang lain selama…\n",
            "SuElaosman RT @PopPelangi: Saya dengar khabar tak baik dari Sabah. Ada gempa bumi di Ranau, dengan kekuatan 2.8 skala Richter. Semoga yang lain selama…\n",
            "Divif2kostrad Pangdivif 2 Kostrad Pimpin Upacara Purna Tugas Satgas Percepatan Pembangunan Hunian Tetap Pasca Bencana Gempa Bumi… https://t.co/gSKb7obIjs\n",
            "ppid_rri RT @pro1bukittingg1: Dialog Program \"Kentongan\" RRI -RADIO TANGGAP BENCANA, BMKG Padang Panjang\n",
            "Topik : ANTISIPASI BENCANA / REFLESI GEMPA…\n",
            "investamedia Waspada, Bencana Longsor hingga Gempa Bumi Berpotensi Terjadi di 2020 https://t.co/Yfnx26l7ll https://t.co/odsQg3ChY9\n",
            "IamStefantje Teens_Fannie kamu itu kayak\n",
            "lempengan bumi ya, geser dikit aja bisa\n",
            "https://t.co/PEMF3a0qf1 hati aku.\n",
            "cekFAV kamu itu kayak lempengan bumi ya, geser dikit aja bisa https://t.co/GTXtNNLBUc hati aku.\n",
            "ainnatashanasir RT @PopPelangi: Saya dengar khabar tak baik dari Sabah. Ada gempa bumi di Ranau, dengan kekuatan 2.8 skala Richter. Semoga yang lain selama…\n"
          ],
          "name": "stdout"
        }
      ]
    },
    {
      "cell_type": "markdown",
      "metadata": {
        "id": "ZNlHwyA-Qu1O",
        "colab_type": "text"
      },
      "source": [
        "# **HALAMAN PADA TWITTER**\n",
        "\n",
        "Seperti disebutkan, Twitter menyajikan hasil di halaman. Untuk mendapatkan semua hasil, kita dapat menggunakan implementasi Kursor Tweepy, yang menangani iterasi ini melalui halaman untuk kita di latar belakang."
      ]
    },
    {
      "cell_type": "code",
      "metadata": {
        "id": "kwe5IeLPQ78u",
        "colab_type": "code",
        "outputId": "4842cef5-5a42-4b98-eacb-c2587aee061d",
        "colab": {
          "base_uri": "https://localhost:8080/",
          "height": 1000
        }
      },
      "source": [
        "# Lets find only media or links about earthquakes\n",
        "queryString = \"gempa bumi (filter:media OR filter:links)\"\n",
        "\n",
        "# How many tweets should we fetch? Upper limit is 1,500\n",
        "maxToReturn = 100\n",
        "\n",
        "# Perform the search, and for each tweet that matches our query, \n",
        "# print the author and text\n",
        "print (\"\\nTweets:\")\n",
        "for status in tweepy.Cursor(api.search, q=queryString).items(maxToReturn):\n",
        "    print (status.author.screen_name, status.text)"
      ],
      "execution_count": 0,
      "outputs": [
        {
          "output_type": "stream",
          "text": [
            "\n",
            "Tweets:\n",
            "ftmhaziz RT @PopPelangi: Walaupun gempa bumi tersebut direkodkan ketiga paling kuat dalam sejarah merekod kejadian gempa (Alaska 1964, diikuti Chile…\n",
            "HazeLatif RT @PopPelangi: Saya dengar khabar tak baik dari Sabah. Ada gempa bumi di Ranau, dengan kekuatan 2.8 skala Richter. Semoga yang lain selama…\n",
            "SetanKepo_ kamu itu kayak lempengan bumi ya, geser dikit aja bisa https://t.co/N5S8nqDSQc hati aku.\n",
            "JurnalNews_ID Gempa Bumi Magnitudo 5,1 Guncang Kabupaten Tolitoli https://t.co/wqQlnYC1AW https://t.co/zqCzZVblHZ\n",
            "annasyahidatul RT @PopPelangi: Saya dengar khabar tak baik dari Sabah. Ada gempa bumi di Ranau, dengan kekuatan 2.8 skala Richter. Semoga yang lain selama…\n",
            "syvzwvnv RT @PopPelangi: Saya dengar khabar tak baik dari Sabah. Ada gempa bumi di Ranau, dengan kekuatan 2.8 skala Richter. Semoga yang lain selama…\n",
            "batamtoday Potensi Bencana Gempa Bumi, Tsunami dan Erupsi Gunung Api Perlu Diwaspadai pada 2020 https://t.co/KaaSUuUV9w\n",
            "fe307_ RT @PopPelangi: Saya dengar khabar tak baik dari Sabah. Ada gempa bumi di Ranau, dengan kekuatan 2.8 skala Richter. Semoga yang lain selama…\n",
            "SuElaosman RT @PopPelangi: Saya dengar khabar tak baik dari Sabah. Ada gempa bumi di Ranau, dengan kekuatan 2.8 skala Richter. Semoga yang lain selama…\n",
            "Divif2kostrad Pangdivif 2 Kostrad Pimpin Upacara Purna Tugas Satgas Percepatan Pembangunan Hunian Tetap Pasca Bencana Gempa Bumi… https://t.co/gSKb7obIjs\n",
            "ppid_rri RT @pro1bukittingg1: Dialog Program \"Kentongan\" RRI -RADIO TANGGAP BENCANA, BMKG Padang Panjang\n",
            "Topik : ANTISIPASI BENCANA / REFLESI GEMPA…\n",
            "investamedia Waspada, Bencana Longsor hingga Gempa Bumi Berpotensi Terjadi di 2020 https://t.co/Yfnx26l7ll https://t.co/odsQg3ChY9\n",
            "IamStefantje Teens_Fannie kamu itu kayak\n",
            "lempengan bumi ya, geser dikit aja bisa\n",
            "https://t.co/PEMF3a0qf1 hati aku.\n",
            "cekFAV kamu itu kayak lempengan bumi ya, geser dikit aja bisa https://t.co/GTXtNNLBUc hati aku.\n",
            "ainnatashanasir RT @PopPelangi: Saya dengar khabar tak baik dari Sabah. Ada gempa bumi di Ranau, dengan kekuatan 2.8 skala Richter. Semoga yang lain selama…\n",
            "EsmaDannyDawson RT @FaktaBukanAuta: Tahukah anda garisan biru itu untuk setiap angin kencang &amp; dot pula adalah gempa bumi yg direkodkan sejak 25 tahun lalu…\n",
            "Dinakici mi_ChristyChiBi kamu itu kayak lempengan bumi ya, geser\n",
            "dikit aja bisa https://t.co/4CxwZMXuOy hati aku.\n",
            "ibontang kamu itu kayak lempengan bumi ya, geser dikit aja bisa https://t.co/6MRcrLDDPe hati aku.\n",
            "munir1687 Genap 1 tahun berlakunya musibah gempa bumi di seluruh dunia 2019..kini memasuki 2020 https://t.co/IWM4VswMrG\n",
            "AfifahTahir RT @PopPelangi: Saya dengar khabar tak baik dari Sabah. Ada gempa bumi di Ranau, dengan kekuatan 2.8 skala Richter. Semoga yang lain selama…\n",
            "aenanosopia RT @PopPelangi: Saya dengar khabar tak baik dari Sabah. Ada gempa bumi di Ranau, dengan kekuatan 2.8 skala Richter. Semoga yang lain selama…\n",
            "anakNazar RT @PopPelangi: Saya dengar khabar tak baik dari Sabah. Ada gempa bumi di Ranau, dengan kekuatan 2.8 skala Richter. Semoga yang lain selama…\n",
            "luqmanhakimsani RT @PopPelangi: Saya dengar khabar tak baik dari Sabah. Ada gempa bumi di Ranau, dengan kekuatan 2.8 skala Richter. Semoga yang lain selama…\n",
            "diannnjihann RT @PopPelangi: Saya dengar khabar tak baik dari Sabah. Ada gempa bumi di Ranau, dengan kekuatan 2.8 skala Richter. Semoga yang lain selama…\n",
            "unichorn_ RT @PopPelangi: Saya dengar khabar tak baik dari Sabah. Ada gempa bumi di Ranau, dengan kekuatan 2.8 skala Richter. Semoga yang lain selama…\n",
            "fahad_labirin Bahagia Mas!\n",
            ".\n",
            "Bahagia adalah Jawaban dr anggota Tim Bansos yg ditugas seminggu ke daerah Belanting, salah satu dae… https://t.co/oteJE3o7Kr\n",
            "didi_melati RT @PopPelangi: Saya dengar khabar tak baik dari Sabah. Ada gempa bumi di Ranau, dengan kekuatan 2.8 skala Richter. Semoga yang lain selama…\n",
            "pherinacencen RT @TarizSolis: Terkendala oleh narasi penuh sesak, #Ashfall untungnya masih sanggup terhidang sebagai sajian bencana alam yang menggelegar…\n",
            "Amrlluqman RT @PopPelangi: Saya dengar khabar tak baik dari Sabah. Ada gempa bumi di Ranau, dengan kekuatan 2.8 skala Richter. Semoga yang lain selama…\n",
            "Dhiahizaki RT @PopPelangi: Saya dengar khabar tak baik dari Sabah. Ada gempa bumi di Ranau, dengan kekuatan 2.8 skala Richter. Semoga yang lain selama…\n",
            "aimanazim2898 RT @PopPelangi: Saya dengar khabar tak baik dari Sabah. Ada gempa bumi di Ranau, dengan kekuatan 2.8 skala Richter. Semoga yang lain selama…\n",
            "NY_Amidala RT @PopPelangi: Saya dengar khabar tak baik dari Sabah. Ada gempa bumi di Ranau, dengan kekuatan 2.8 skala Richter. Semoga yang lain selama…\n",
            "rohaaramli RT @PopPelangi: Saya dengar khabar tak baik dari Sabah. Ada gempa bumi di Ranau, dengan kekuatan 2.8 skala Richter. Semoga yang lain selama…\n",
            "amnieysyazanaaa RT @PopPelangi: Saya dengar khabar tak baik dari Sabah. Ada gempa bumi di Ranau, dengan kekuatan 2.8 skala Richter. Semoga yang lain selama…\n",
            "ShafawatiIsmail RT @PopPelangi: Saya dengar khabar tak baik dari Sabah. Ada gempa bumi di Ranau, dengan kekuatan 2.8 skala Richter. Semoga yang lain selama…\n",
            "Sal0520 RT @PopPelangi: Saya dengar khabar tak baik dari Sabah. Ada gempa bumi di Ranau, dengan kekuatan 2.8 skala Richter. Semoga yang lain selama…\n",
            "DJTerselubung kamu itu kayak lempengan bumi ya, geser dikit aja bisa https://t.co/2CIbiRIFYf hati aku.\n",
            "madeforbye RT @PopPelangi: Saya dengar khabar tak baik dari Sabah. Ada gempa bumi di Ranau, dengan kekuatan 2.8 skala Richter. Semoga yang lain selama…\n",
            "fahmi_abicik RT @PopPelangi: Saya dengar khabar tak baik dari Sabah. Ada gempa bumi di Ranau, dengan kekuatan 2.8 skala Richter. Semoga yang lain selama…\n",
            "Shazatul_azlin RT @PopPelangi: Saya dengar khabar tak baik dari Sabah. Ada gempa bumi di Ranau, dengan kekuatan 2.8 skala Richter. Semoga yang lain selama…\n",
            "khaiwtf RT @PopPelangi: Saya dengar khabar tak baik dari Sabah. Ada gempa bumi di Ranau, dengan kekuatan 2.8 skala Richter. Semoga yang lain selama…\n",
            "un_petit_mangue RT @PopPelangi: Saya dengar khabar tak baik dari Sabah. Ada gempa bumi di Ranau, dengan kekuatan 2.8 skala Richter. Semoga yang lain selama…\n",
            "ierasairi RT @PopPelangi: Saya dengar khabar tak baik dari Sabah. Ada gempa bumi di Ranau, dengan kekuatan 2.8 skala Richter. Semoga yang lain selama…\n",
            "RobertAdhiKsp BMKG saat ini menyiapkan sistem peringatan dini gempa bumi. Meski begitu, mitigasi mandiri oleh masyarakat tetap ha… https://t.co/kexTDr7lg0\n",
            "the_ijatM RT @PopPelangi: Saya dengar khabar tak baik dari Sabah. Ada gempa bumi di Ranau, dengan kekuatan 2.8 skala Richter. Semoga yang lain selama…\n",
            "aliffahme RT @PopPelangi: Saya dengar khabar tak baik dari Sabah. Ada gempa bumi di Ranau, dengan kekuatan 2.8 skala Richter. Semoga yang lain selama…\n",
            "atiqqahhkk RT @PopPelangi: Saya dengar khabar tak baik dari Sabah. Ada gempa bumi di Ranau, dengan kekuatan 2.8 skala Richter. Semoga yang lain selama…\n",
            "FJBBali kamu itu kayak lempengan bumi ya, geser dikit aja bisa https://t.co/WIkQT9PN78 hati aku.\n",
            "cindereppah RT @PopPelangi: Saya dengar khabar tak baik dari Sabah. Ada gempa bumi di Ranau, dengan kekuatan 2.8 skala Richter. Semoga yang lain selama…\n",
            "aidakhirol RT @PopPelangi: Saya dengar khabar tak baik dari Sabah. Ada gempa bumi di Ranau, dengan kekuatan 2.8 skala Richter. Semoga yang lain selama…\n",
            "CaptSmurf RT @PopPelangi: Saya dengar khabar tak baik dari Sabah. Ada gempa bumi di Ranau, dengan kekuatan 2.8 skala Richter. Semoga yang lain selama…\n",
            "Dzulhasif RT @PopPelangi: Saya dengar khabar tak baik dari Sabah. Ada gempa bumi di Ranau, dengan kekuatan 2.8 skala Richter. Semoga yang lain selama…\n",
            "misscasiolrmy RT @BernamaTV: Gempa bumi lemah berukuran 2.8 pada Skala Richter melanda Ranau, Sabah, pada 2.04 petang tadi - Jabatan Meteorologi Malaysia…\n",
            "DaohKing1 RT @PopPelangi: Saya dengar khabar tak baik dari Sabah. Ada gempa bumi di Ranau, dengan kekuatan 2.8 skala Richter. Semoga yang lain selama…\n",
            "aalifahilyana RT @PopPelangi: Saya dengar khabar tak baik dari Sabah. Ada gempa bumi di Ranau, dengan kekuatan 2.8 skala Richter. Semoga yang lain selama…\n",
            "amireshkak RT @PopPelangi: Saya dengar khabar tak baik dari Sabah. Ada gempa bumi di Ranau, dengan kekuatan 2.8 skala Richter. Semoga yang lain selama…\n",
            "amiryogi RT @PopPelangi: Saya dengar khabar tak baik dari Sabah. Ada gempa bumi di Ranau, dengan kekuatan 2.8 skala Richter. Semoga yang lain selama…\n",
            "nazrulali RT @PopPelangi: Saya dengar khabar tak baik dari Sabah. Ada gempa bumi di Ranau, dengan kekuatan 2.8 skala Richter. Semoga yang lain selama…\n",
            "iOo__oOi RT @PopPelangi: Saya dengar khabar tak baik dari Sabah. Ada gempa bumi di Ranau, dengan kekuatan 2.8 skala Richter. Semoga yang lain selama…\n",
            "tuvdoubleuxyz RT @PopPelangi: Saya dengar khabar tak baik dari Sabah. Ada gempa bumi di Ranau, dengan kekuatan 2.8 skala Richter. Semoga yang lain selama…\n",
            "ismefadz RT @PopPelangi: Saya dengar khabar tak baik dari Sabah. Ada gempa bumi di Ranau, dengan kekuatan 2.8 skala Richter. Semoga yang lain selama…\n",
            "boihachiko RT @PopPelangi: Saya dengar khabar tak baik dari Sabah. Ada gempa bumi di Ranau, dengan kekuatan 2.8 skala Richter. Semoga yang lain selama…\n",
            "NikNicqozil RT @PopPelangi: Saya dengar khabar tak baik dari Sabah. Ada gempa bumi di Ranau, dengan kekuatan 2.8 skala Richter. Semoga yang lain selama…\n",
            "HazimHisyam RT @PopPelangi: Saya dengar khabar tak baik dari Sabah. Ada gempa bumi di Ranau, dengan kekuatan 2.8 skala Richter. Semoga yang lain selama…\n",
            "imwatafak RT @PopPelangi: Saya dengar khabar tak baik dari Sabah. Ada gempa bumi di Ranau, dengan kekuatan 2.8 skala Richter. Semoga yang lain selama…\n",
            "Ameliaa63482445 RT @PopPelangi: Saya dengar khabar tak baik dari Sabah. Ada gempa bumi di Ranau, dengan kekuatan 2.8 skala Richter. Semoga yang lain selama…\n",
            "EiffHann RT @PopPelangi: Saya dengar khabar tak baik dari Sabah. Ada gempa bumi di Ranau, dengan kekuatan 2.8 skala Richter. Semoga yang lain selama…\n",
            "tiffsy_junity RT @PopPelangi: Saya dengar khabar tak baik dari Sabah. Ada gempa bumi di Ranau, dengan kekuatan 2.8 skala Richter. Semoga yang lain selama…\n",
            "imfsea_aruna RT @renardsiew: Praying for everyone’s safety in #Ranau #EarthQuake\n",
            "\n",
            "https://t.co/inYEAqXfgg\n",
            "kamorgendorffer RT @PopPelangi: Saya dengar khabar tak baik dari Sabah. Ada gempa bumi di Ranau, dengan kekuatan 2.8 skala Richter. Semoga yang lain selama…\n",
            "muunn97 RT @PopPelangi: Saya dengar khabar tak baik dari Sabah. Ada gempa bumi di Ranau, dengan kekuatan 2.8 skala Richter. Semoga yang lain selama…\n",
            "ajrunazhimhusna RT @PopPelangi: Saya dengar khabar tak baik dari Sabah. Ada gempa bumi di Ranau, dengan kekuatan 2.8 skala Richter. Semoga yang lain selama…\n",
            "syrfhmherh RT @PopPelangi: Saya dengar khabar tak baik dari Sabah. Ada gempa bumi di Ranau, dengan kekuatan 2.8 skala Richter. Semoga yang lain selama…\n",
            "cRazE3Cau5a RT @PopPelangi: Saya dengar khabar tak baik dari Sabah. Ada gempa bumi di Ranau, dengan kekuatan 2.8 skala Richter. Semoga yang lain selama…\n",
            "fawrisya RT @PopPelangi: Saya dengar khabar tak baik dari Sabah. Ada gempa bumi di Ranau, dengan kekuatan 2.8 skala Richter. Semoga yang lain selama…\n",
            "DanialMuhaimin RT @PopPelangi: Saya dengar khabar tak baik dari Sabah. Ada gempa bumi di Ranau, dengan kekuatan 2.8 skala Richter. Semoga yang lain selama…\n",
            "shahrizalisa RT @PopPelangi: Saya dengar khabar tak baik dari Sabah. Ada gempa bumi di Ranau, dengan kekuatan 2.8 skala Richter. Semoga yang lain selama…\n",
            "jn_zeus RT @PopPelangi: Saya dengar khabar tak baik dari Sabah. Ada gempa bumi di Ranau, dengan kekuatan 2.8 skala Richter. Semoga yang lain selama…\n",
            "norlizalala RT @PopPelangi: Saya dengar khabar tak baik dari Sabah. Ada gempa bumi di Ranau, dengan kekuatan 2.8 skala Richter. Semoga yang lain selama…\n",
            "farahrooka RT @PopPelangi: Saya dengar khabar tak baik dari Sabah. Ada gempa bumi di Ranau, dengan kekuatan 2.8 skala Richter. Semoga yang lain selama…\n",
            "Aidilsson RT @PopPelangi: Saya dengar khabar tak baik dari Sabah. Ada gempa bumi di Ranau, dengan kekuatan 2.8 skala Richter. Semoga yang lain selama…\n",
            "farahhawani RT @PopPelangi: Saya dengar khabar tak baik dari Sabah. Ada gempa bumi di Ranau, dengan kekuatan 2.8 skala Richter. Semoga yang lain selama…\n",
            "amyzababyy RT @PopPelangi: Saya dengar khabar tak baik dari Sabah. Ada gempa bumi di Ranau, dengan kekuatan 2.8 skala Richter. Semoga yang lain selama…\n",
            "sneakersfreak13 RT @PopPelangi: Saya dengar khabar tak baik dari Sabah. Ada gempa bumi di Ranau, dengan kekuatan 2.8 skala Richter. Semoga yang lain selama…\n",
            "synslilac_ RT @PopPelangi: Saya dengar khabar tak baik dari Sabah. Ada gempa bumi di Ranau, dengan kekuatan 2.8 skala Richter. Semoga yang lain selama…\n",
            "syhdhrslan_ RT @PopPelangi: Saya dengar khabar tak baik dari Sabah. Ada gempa bumi di Ranau, dengan kekuatan 2.8 skala Richter. Semoga yang lain selama…\n",
            "Nik_Nasrul RT @PopPelangi: Saya dengar khabar tak baik dari Sabah. Ada gempa bumi di Ranau, dengan kekuatan 2.8 skala Richter. Semoga yang lain selama…\n",
            "Marchfoward RT @PopPelangi: Saya dengar khabar tak baik dari Sabah. Ada gempa bumi di Ranau, dengan kekuatan 2.8 skala Richter. Semoga yang lain selama…\n",
            "AlxndraNbriella RT @PopPelangi: Saya dengar khabar tak baik dari Sabah. Ada gempa bumi di Ranau, dengan kekuatan 2.8 skala Richter. Semoga yang lain selama…\n",
            "rin_fairuz RT @PopPelangi: Saya dengar khabar tak baik dari Sabah. Ada gempa bumi di Ranau, dengan kekuatan 2.8 skala Richter. Semoga yang lain selama…\n",
            "alumairadnan RT @PopPelangi: Saya dengar khabar tak baik dari Sabah. Ada gempa bumi di Ranau, dengan kekuatan 2.8 skala Richter. Semoga yang lain selama…\n",
            "PopPelangi Saya dengar khabar tak baik dari Sabah. Ada gempa bumi di Ranau, dengan kekuatan 2.8 skala Richter. Semoga yang lai… https://t.co/49ntWYjQd1\n",
            "eG_F RT @BernamaTV: Gempa bumi lemah berukuran 2.8 pada Skala Richter melanda Ranau, Sabah, pada 2.04 petang tadi - Jabatan Meteorologi Malaysia…\n",
            "_rxsmxn RT @SABAHtwt: Gempa Bumi !!! - Ranau https://t.co/XfTLtbMaLX\n",
            "jalphonsalopez RT @renardsiew: Praying for everyone’s safety in #Ranau #EarthQuake\n",
            "\n",
            "https://t.co/inYEAqXfgg\n",
            "nuyuiiiiii RT @SABAHtwt: Gempa Bumi !!! - Ranau https://t.co/XfTLtbMaLX\n",
            "DailyExpress_MY RT @SABAHtwt: Gempa Bumi !!! - Ranau https://t.co/XfTLtbMaLX\n",
            "Fajar19691 RT @TarizSolis: Terkendala oleh narasi penuh sesak, #Ashfall untungnya masih sanggup terhidang sebagai sajian bencana alam yang menggelegar…\n",
            "Aliff_af6 Innalillahiwainnailaihirojiun https://t.co/sQCHhKWqJt\n",
            "DMentari14 RT @SartonoHutomo: 15 belas tahun Yang Lalu tepatnya tgl 26 Desember 2004 Gempa Bumi dan Tsunami yang Dahsyat menimpa Nanggro Aceh Darullsa…\n"
          ],
          "name": "stdout"
        }
      ]
    },
    {
      "cell_type": "markdown",
      "metadata": {
        "id": "pmqLk4EKRE7f",
        "colab_type": "text"
      },
      "source": [
        "# **Fungsi Pencarian Lainnya**\n",
        "\n",
        "Wrapper Tweepy dan Twitter API cukup luas. Kita dapat melakukan hal-hal seperti menarik 3.200 tweet terakhir dari garis waktu pengguna lain, menemukan semua retweet akun kita, mendapatkan daftar pengikut, mencari pengguna yang cocok dengan kueri, dll.\n",
        "\n",
        "Informasi lebih lanjut tentang kemampuan Tweepy tersedia di halaman dokumentasinya: (http://tweepy.readthedocs.io/)\n",
        "\n",
        "Informasi lain tentang Twitter API tersedia di sini: (https://developer.twitter.com/en/docs/tweets/search/overview)."
      ]
    },
    {
      "cell_type": "markdown",
      "metadata": {
        "id": "bNZ4kolVRUc8",
        "colab_type": "text"
      },
      "source": [
        "# **STREAMING TWITTER**\n",
        "\n",
        "Suatu peristiwa telah terjadi, dan kita ingin melihat bagaimana Twitter merespons selama beberapa periode waktu.\n",
        "\n",
        "Untuk mengikuti acara secara real time, Twitter dan Tweepy mendukung streaming Twitter. Streaming agak rumit, tetapi pada dasarnya memungkinkan untuk melacak serangkaian kata kunci, tempat, atau pengguna.\n",
        "\n",
        "Agar semuanya tetap sederhana, kita akan memberikan kelas sederhana dan menunjukkan metode untuk mencetak beberapa tweet pertama. Solusi yang lebih besar ada khusus untuk menangani streaming Twitter.\n",
        "\n",
        "Kita dapat mengambil kode ini dan dengan mudah memperluasnya dengan menulis data ke file daripada konsol. Kita telah menandai di mana kode itu dapat dimasukkan."
      ]
    },
    {
      "cell_type": "code",
      "metadata": {
        "id": "aQ9NljUeRwPC",
        "colab_type": "code",
        "colab": {}
      },
      "source": [
        "# First, we need to create our own listener for the stream\n",
        "# that will stop after a few tweets\n",
        "class LocalStreamListener(tweepy.StreamListener):\n",
        "    \"\"\"A simple stream listener that breaks out after X tweets\"\"\"\n",
        "    \n",
        "    # Max number of tweets\n",
        "    maxTweetCount = 10\n",
        "    \n",
        "    # Set current counter\n",
        "    def __init__(self):\n",
        "        tweepy.StreamListener.__init__(self)\n",
        "        self.currentTweetCount = 0\n",
        "        \n",
        "        # For writing out to a file\n",
        "        self.filePtr = None\n",
        "        \n",
        "    # Create a log file\n",
        "    def set_log_file(self, newFile):\n",
        "        if ( self.filePtr ):\n",
        "            self.filePtr.close()\n",
        "            \n",
        "        self.filePtr = newFile\n",
        "        \n",
        "    # Close log file\n",
        "    def close_log_file(self):\n",
        "        if ( self.filePtr ):\n",
        "            self.filePtr.close()\n",
        "    \n",
        "    # Pass data up to parent then check if we should stop\n",
        "    def on_data(self, data):\n",
        "\n",
        "        print (self.currentTweetCount)\n",
        "        \n",
        "        tweepy.StreamListener.on_data(self, data)\n",
        "            \n",
        "        if ( self.currentTweetCount >= self.maxTweetCount ):\n",
        "            return False\n",
        "\n",
        "    # Increment the number of statuses we've seen\n",
        "    def on_status(self, status):\n",
        "        self.currentTweetCount += 1\n",
        "        \n",
        "        # Could write this status to a file instead of to the console\n",
        "        print (status.text)\n",
        "        \n",
        "        # If we have specified a file, write to it\n",
        "        if ( self.filePtr ):\n",
        "            self.filePtr.write(\"%s\\n\" % status._json)\n",
        "        \n",
        "    # Error handling below here\n",
        "    def on_exception(self, exc):\n",
        "        print (exc)\n",
        "\n",
        "    def on_limit(self, track):\n",
        "        \"\"\"Called when a limitation notice arrives\"\"\"\n",
        "        print (\"Limit\", track)\n",
        "        return\n",
        "\n",
        "    def on_error(self, status_code):\n",
        "        \"\"\"Called when a non-200 status code is returned\"\"\"\n",
        "        print (\"Error:\", status_code)\n",
        "        return False\n",
        "\n",
        "    def on_timeout(self):\n",
        "        \"\"\"Called when stream connection times out\"\"\"\n",
        "        print (\"Timeout\")\n",
        "        return\n",
        "\n",
        "    def on_disconnect(self, notice):\n",
        "        \"\"\"Called when twitter sends a disconnect notice\n",
        "        \"\"\"\n",
        "        print (\"Disconnect:\", notice)\n",
        "        return\n",
        "\n",
        "    def on_warning(self, notice):\n",
        "        print (\"Warning:\", notice)\n",
        "        \"\"\"Called when a disconnection warning message arrives\"\"\"\n"
      ],
      "execution_count": 0,
      "outputs": []
    },
    {
      "cell_type": "markdown",
      "metadata": {
        "id": "cDITF7zAR68v",
        "colab_type": "text"
      },
      "source": [
        "Sekarang kita mengatur aliran menggunakan pendengar di atas"
      ]
    },
    {
      "cell_type": "code",
      "metadata": {
        "id": "NR2zHMikSD3k",
        "colab_type": "code",
        "colab": {}
      },
      "source": [
        "listener = LocalStreamListener()\n",
        "localStream = tweepy.Stream(api.auth, listener)"
      ],
      "execution_count": 0,
      "outputs": []
    },
    {
      "cell_type": "code",
      "metadata": {
        "id": "aFrw23iRSGnW",
        "colab_type": "code",
        "outputId": "5140cb36-1119-4306-dca1-ec2621e62071",
        "colab": {
          "base_uri": "https://localhost:8080/",
          "height": 857
        }
      },
      "source": [
        "# Stream based on keywords\n",
        "localStream.filter(track=['gempa bumi', 'bencana alam'])"
      ],
      "execution_count": 0,
      "outputs": [
        {
          "output_type": "stream",
          "text": [
            "0\n",
            "RT @staysmentality: （INDONESIAN EMERGENCY CALL）\n",
            "\n",
            "1. Ambulans (118 atau 119)\n",
            "2. Pemadam kebakaran (113)\n",
            "3. Polisi (110)\n",
            "4. SAR/BASARNAS (115…\n",
            "1\n",
            "RT @staysmentality: （INDONESIAN EMERGENCY CALL）\n",
            "\n",
            "1. Ambulans (118 atau 119)\n",
            "2. Pemadam kebakaran (113)\n",
            "3. Polisi (110)\n",
            "4. SAR/BASARNAS (115…\n",
            "2\n",
            "@tubbirfess Bener tub. Kan kiamat ada yg kiamat kubra dan sugro. Kiamat besar dan kiamat kecil.\n",
            "\n",
            "Kiamat kecil = ben… https://t.co/NR3dcxuk2U\n",
            "3\n",
            "RT @staysmentality: （INDONESIAN EMERGENCY CALL）\n",
            "\n",
            "1. Ambulans (118 atau 119)\n",
            "2. Pemadam kebakaran (113)\n",
            "3. Polisi (110)\n",
            "4. SAR/BASARNAS (115…\n",
            "4\n",
            "@BNPB_Indonesia @TMCPoldaMetro Yha, paling respond nya \"ini kan bencana alam biasa\"\n",
            "5\n",
            "RT @staysmentality: （INDONESIAN EMERGENCY CALL）\n",
            "\n",
            "1. Ambulans (118 atau 119)\n",
            "2. Pemadam kebakaran (113)\n",
            "3. Polisi (110)\n",
            "4. SAR/BASARNAS (115…\n",
            "6\n",
            "@jokowi Negri ini di ambang kehancuran\n",
            "*bencana di mana2\n",
            "*ekonomi nyungseb/lesu\n",
            "*korupsi merajalela\n",
            "*harga sembako… https://t.co/95LQnBQuAk\n",
            "7\n",
            "dEnGaN RAsA pRihAtIn aTaS tERjadiNYA bEnCAnA ALaM \n",
            "\n",
            "Apasi hubungannya AHAHAHDHAHAHEHDJWBFOCNEOSGAHAHAH\n",
            "8\n",
            "Disaat bencana banjir pun masih sempet salah-salahan, tuduh sana sini..\n",
            "\n",
            "Coba deh lihat diri sendiri, kita ini seba… https://t.co/TljrcTCYXc\n",
            "9\n",
            "RT @madbitchie: @tubbirfess Justru malah bodo amat gasih sama bencana alam gini\n"
          ],
          "name": "stdout"
        }
      ]
    },
    {
      "cell_type": "code",
      "metadata": {
        "id": "tsoYY9WSSxKV",
        "colab_type": "code",
        "outputId": "9a99764d-fe86-44ac-d744-676cd7e4d619",
        "colab": {
          "base_uri": "https://localhost:8080/",
          "height": 353
        }
      },
      "source": [
        "listener = LocalStreamListener()\n",
        "localStream = tweepy.Stream(api.auth, listener)\n",
        "\n",
        "# List of screen names to track\n",
        "screenNames = ['bbcbreaking', 'CNews', 'bbc', 'nytimes']\n",
        "\n",
        "# Twitter stream uses user IDs instead of names\n",
        "# so we must convert\n",
        "userIds = []\n",
        "for sn in screenNames:\n",
        "    user = api.get_user(sn)\n",
        "    userIds.append(user.id_str)\n",
        "\n",
        "# Stream based on users\n",
        "localStream.filter(follow=userIds)"
      ],
      "execution_count": 0,
      "outputs": [
        {
          "output_type": "stream",
          "text": [
            "0\n",
            "RT @nytimes: During a bachelor-party trip to Nashville in 2018, a white New York City police officer kicked in a black woman’s door in a dr…\n",
            "1\n",
            "RT @nytimes: Hundreds of Iraqi mourners tried to storm the United States Embassy in Baghdad, shouting “Down, down USA!,” in response to dea…\n",
            "2\n",
            "RT @nytimes: In Shanghai, revelers welcomed in the new year with a drone display forming various shapes and patterns against the night sky…\n",
            "3\n",
            "@nytimes So Shanghai wins the day. Wow\n",
            "4\n",
            "@nytimes What the hell is wrong with you?\n",
            "5\n",
            "RT @nytimes: During a bachelor-party trip to Nashville in 2018, a white New York City police officer kicked in a black woman’s door in a dr…\n",
            "6\n",
            "RT @nytimes: In Shanghai, revelers welcomed in the new year with a drone display forming various shapes and patterns against the night sky…\n",
            "7\n",
            "@nytimes They’re Iranians\n",
            "8\n",
            "@nytimes Uhhh, “mourners”?\n",
            "9\n",
            "RT @nytimes: Breaking News: After protests at the Baghdad embassy, about 750 U.S. troops will deploy to the region as a “precautionary acti…\n"
          ],
          "name": "stdout"
        }
      ]
    },
    {
      "cell_type": "code",
      "metadata": {
        "id": "Pcvxh0-OS4tz",
        "colab_type": "code",
        "outputId": "44f39ebf-d1a8-44a1-dce1-b2f6149cc5e7",
        "colab": {
          "base_uri": "https://localhost:8080/",
          "height": 370
        }
      },
      "source": [
        "listener = LocalStreamListener()\n",
        "localStream = tweepy.Stream(api.auth, listener)\n",
        "\n",
        "# Specify coordinates for a bounding box around area of interest\n",
        "# In this case, we use San Francisco\n",
        "swCornerLat = 36.8\n",
        "swCornerLon = -122.75\n",
        "neCornerLat = 37.8\n",
        "neCornerLon = -121.75\n",
        "\n",
        "boxArray = [swCornerLon, swCornerLat, neCornerLon, neCornerLat]\n",
        "\n",
        "# Say we want to write these tweets to a file\n",
        "listener.set_log_file(open(\"tweet_log.json\", \"w\"))\n",
        "\n",
        "# Stream based on location\n",
        "localStream.filter(locations=boxArray)\n",
        "\n",
        "# Close the log file\n",
        "listener.close_log_file()"
      ],
      "execution_count": 0,
      "outputs": [
        {
          "output_type": "stream",
          "text": [
            "0\n",
            "2019 thank you @ArianaGrande for two albums and a live album. Exquisite year https://t.co/21HpBPAGw2\n",
            "1\n",
            "Oop https://t.co/ZadZGnBfnn\n",
            "2\n",
            "@yae_BBTS Happy New Year! 🎆🎇\n",
            "3\n",
            "@hazydav I am not going to @ces because of her!\n",
            "4\n",
            "TYBG @LILBTHEBASEDGOD https://t.co/7iCIUl34R3\n",
            "5\n",
            "My list of my favorite #kpop songs of the past year 2019! With a little insight as to why. Also a honorable mention… https://t.co/vJp4S8QagS\n",
            "6\n",
            "10. #RedVelvet - #Psycho. HM: (La Rouge)\n",
            "RV came back with a song/album that plays to their strengths. Great vocals… https://t.co/MHYzYsrXjZ\n",
            "7\n",
            "@DavidRMckechnie Haha cheers Kechers! Hope you and the family are doing well!\n",
            "8\n",
            "@br33z3l Are you sure that's not a dildo with eyes\n",
            "9\n",
            "@Malcah1717 Very nice! :)\n"
          ],
          "name": "stdout"
        }
      ]
    }
  ]
}